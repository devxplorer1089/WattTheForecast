{
 "cells": [
  {
   "cell_type": "code",
   "execution_count": 4,
   "metadata": {},
   "outputs": [
    {
     "name": "stderr",
     "output_type": "stream",
     "text": [
      "C:\\Users\\Elite\\AppData\\Local\\Temp\\ipykernel_27668\\432456663.py:23: FutureWarning: The default fill_method='pad' in Series.pct_change is deprecated and will be removed in a future version. Either fill in any non-leading NA values prior to calling pct_change or specify 'fill_method=None' to not fill NA values.\n",
      "  df_hourly[\"Price_Change_1\"] = df_hourly[\"Avg_Price_EUR_MWh\"].pct_change() * 100\n",
      "c:\\Users\\Elite\\Documents\\Ocean\\PowerCast The Electricity Price Forecasting Challenge\\grid-price-predictor\\venv\\Lib\\site-packages\\sklearn\\utils\\validation.py:2739: UserWarning: X does not have valid feature names, but LGBMClassifier was fitted with feature names\n",
      "  warnings.warn(\n"
     ]
    },
    {
     "name": "stdout",
     "output_type": "stream",
     "text": [
      "📊 Accuracy: 0.9992\n",
      "📉 Mean Absolute Error: 0.0012\n",
      "📈 Root Mean Squared Error: 0.0422\n",
      "⚡ Volatility Capture Score: 0.9993\n",
      "🔍 Extreme Price Movement Accuracy: 0.9977\n",
      "✅ Model evaluation completed!\n"
     ]
    }
   ],
   "source": [
    "import os\n",
    "import numpy as np\n",
    "import pandas as pd\n",
    "import joblib\n",
    "from sklearn.metrics import accuracy_score, mean_absolute_error, mean_squared_error\n",
    "\n",
    "# Define directories\n",
    "BASE_DIR = os.getcwd()\n",
    "DATA_DIR = os.path.join(BASE_DIR, \"../datasets/finalized\")\n",
    "MODEL_DIR = os.path.join(BASE_DIR, \"../models\")\n",
    "os.makedirs(MODEL_DIR, exist_ok=True)\n",
    "\n",
    "# Load dataset\n",
    "df_hourly = pd.read_csv(os.path.join(DATA_DIR, \"finalized_hourly_data.csv\"), parse_dates=[\"Start date\"], low_memory=False)\n",
    "df_hourly.set_index(\"Start date\", inplace=True)\n",
    "\n",
    "# Feature Engineering (Must match training)\n",
    "df_hourly[\"Avg_Price_EUR_MWh\"] = df_hourly[\n",
    "    [\"Germany/Luxembourg [/MWh] Original resolutions\", \"Belgium [/MWh] Original resolutions\", \"France [/MWh] Original resolutions\"]\n",
    "].mean(axis=1)\n",
    "\n",
    "df_hourly[\"Rolling_Mean_24\"] = df_hourly[\"Avg_Price_EUR_MWh\"].rolling(24).mean()\n",
    "df_hourly[\"Price_Change_1\"] = df_hourly[\"Avg_Price_EUR_MWh\"].pct_change() * 100\n",
    "df_hourly[\"Lag_1\"] = df_hourly[\"Avg_Price_EUR_MWh\"].shift(1)\n",
    "df_hourly.fillna(0, inplace=True)\n",
    "\n",
    "features = [\"Rolling_Mean_24\", \"Price_Change_1\", \"Lag_1\"]\n",
    "X = df_hourly[features]\n",
    "y = np.where(\n",
    "    df_hourly[\"Avg_Price_EUR_MWh\"].pct_change().fillna(0) > 0.05, 1,\n",
    "    np.where(df_hourly[\"Avg_Price_EUR_MWh\"].pct_change().fillna(0) < -0.05, 2, 0)\n",
    ")\n",
    "\n",
    "# Load models & scaler\n",
    "lgb_classifier = joblib.load(os.path.join(MODEL_DIR, \"lgb_price_model.pkl\"))\n",
    "xgb_classifier = joblib.load(os.path.join(MODEL_DIR, \"xgb_price_model.pkl\"))\n",
    "scaler = joblib.load(os.path.join(MODEL_DIR, \"scaler.pkl\"))\n",
    "\n",
    "# Preprocess data\n",
    "X_scaled = scaler.transform(X)\n",
    "\n",
    "# Predictions\n",
    "y_pred_lgb = lgb_classifier.predict(X_scaled)\n",
    "y_pred_xgb = xgb_classifier.predict(X_scaled)\n",
    "\n",
    "# Ensemble method\n",
    "y_pred_ensemble = np.round((y_pred_lgb + y_pred_xgb) / 2)\n",
    "\n",
    "# Evaluation Metrics\n",
    "def evaluate_predictions(y_true, y_pred):\n",
    "    acc = accuracy_score(y_true, y_pred)\n",
    "    mae = mean_absolute_error(y_true, y_pred)\n",
    "    rmse = np.sqrt(mean_squared_error(y_true, y_pred))\n",
    "    \n",
    "    actual_volatility = np.std(y_true)\n",
    "    predicted_volatility = np.std(y_pred)\n",
    "    volatility_capture = 1 - abs(actual_volatility - predicted_volatility) / actual_volatility if actual_volatility != 0 else 0\n",
    "    \n",
    "    extreme_moves = (np.abs(y_true) > 0.15).sum()\n",
    "    extreme_correct = ((np.abs(y_true) > 0.15) & (np.abs(y_pred) > 0.15)).sum()\n",
    "    extreme_accuracy = extreme_correct / extreme_moves if extreme_moves > 0 else 0\n",
    "\n",
    "    print(f\"📊 Accuracy: {acc:.4f}\")\n",
    "    print(f\"📉 Mean Absolute Error: {mae:.4f}\")\n",
    "    print(f\"📈 Root Mean Squared Error: {rmse:.4f}\")\n",
    "    print(f\"⚡ Volatility Capture Score: {volatility_capture:.4f}\")\n",
    "    print(f\"🔍 Extreme Price Movement Accuracy: {extreme_accuracy:.4f}\")\n",
    "\n",
    "# Run Evaluation\n",
    "evaluate_predictions(y, y_pred_ensemble)\n",
    "\n",
    "print(\"✅ Model evaluation completed!\")\n"
   ]
  },
  {
   "cell_type": "code",
   "execution_count": null,
   "metadata": {},
   "outputs": [],
   "source": []
  }
 ],
 "metadata": {
  "kernelspec": {
   "display_name": "venv",
   "language": "python",
   "name": "python3"
  },
  "language_info": {
   "codemirror_mode": {
    "name": "ipython",
    "version": 3
   },
   "file_extension": ".py",
   "mimetype": "text/x-python",
   "name": "python",
   "nbconvert_exporter": "python",
   "pygments_lexer": "ipython3",
   "version": "3.12.4"
  }
 },
 "nbformat": 4,
 "nbformat_minor": 2
}
